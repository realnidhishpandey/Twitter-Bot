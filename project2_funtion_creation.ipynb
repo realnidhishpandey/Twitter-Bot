{
 "cells": [
  {
   "cell_type": "code",
   "execution_count": 1,
   "metadata": {},
   "outputs": [
    {
     "name": "stdout",
     "output_type": "stream",
     "text": [
      "               user                                               text\n",
      "0  @luffytaroPython                               the face vs the body\n",
      "1   @TheScaryNature                     Python trap using live chicken\n",
      "2       @clearmlapp  Hey, if you are starting out in #machinelearni...\n",
      "3   @PythonAnything                                          it's time\n"
     ]
    }
   ],
   "source": [
    "from selenium import webdriver\n",
    "from selenium.webdriver.common.by import By\n",
    "from selenium.webdriver.support.ui import WebDriverWait\n",
    "from selenium.webdriver.support import expected_conditions as EC\n",
    "import pandas as pd\n",
    "import time\n",
    "\n",
    "web = \"https://twitter.com/search?q=python&src=typed_query\"\n",
    "path = 'C:/Users/croma/OneDrive/Desktop/VS code/chromedriver_win32/chromedriver.exe'\n",
    "driver = webdriver.Chrome(path)\n",
    "driver.get(web)\n",
    "driver.maximize_window()\n",
    "\n",
    "time.sleep(5)\n",
    "\n",
    "def get_tweet(element):\n",
    "    \"\"\"This function scrapes data of tweets. It returns a list with 2 elements; username and text\"\"\"\n",
    "    try:\n",
    "        user = element.find_element_by_xpath(\".//span[contains(text(), '@')]\").text  # there are more than 1 but we pick the first\n",
    "        text = element.find_element_by_xpath(\".//div[@lang]\").text\n",
    "        tweets_data = [user, text]\n",
    "    except:\n",
    "        tweets_data = ['user', 'text']\n",
    "    return tweets_data\n",
    "\n",
    "\n",
    "# Initializing storage\n",
    "user_data = []\n",
    "text_data = []\n",
    "\n",
    "# Getting all the tweet cards/boxes listed in a single page \n",
    "tweets = WebDriverWait(driver, 5).until(EC.presence_of_all_elements_located((By.XPATH, \"//article[@role='article']\")))\n",
    "# Looping through the tweets list\n",
    "for tweet in tweets:\n",
    "    tweet_list = get_tweet(tweet)  # calling the function get_tweet to scrape data of the tweets list\n",
    "    user_data.append(tweet_list[0])  # appending the first element of tweet_list (user)\n",
    "    text_data.append(\" \".join(tweet_list[1].split()))  # appending the second element of tweet_list (text)\n",
    "\n",
    "driver.quit()\n",
    "# Storing the data into a DataFrame and exporting to a csv file\n",
    "df_tweets = pd.DataFrame({'user': user_data, 'text': text_data})\n",
    "df_tweets.to_csv('tweets.csv', index=False)\n",
    "print(df_tweets)\n",
    "\n",
    "\n"
   ]
  }
 ],
 "metadata": {
  "kernelspec": {
   "display_name": "Python 3",
   "language": "python",
   "name": "python3"
  },
  "language_info": {
   "codemirror_mode": {
    "name": "ipython",
    "version": 3
   },
   "file_extension": ".py",
   "mimetype": "text/x-python",
   "name": "python",
   "nbconvert_exporter": "python",
   "pygments_lexer": "ipython3",
   "version": "3.11.2"
  },
  "orig_nbformat": 4
 },
 "nbformat": 4,
 "nbformat_minor": 2
}
