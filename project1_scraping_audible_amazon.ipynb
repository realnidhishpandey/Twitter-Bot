{
 "cells": [
  {
   "cell_type": "code",
   "execution_count": 12,
   "metadata": {},
   "outputs": [],
   "source": [
    "from selenium import webdriver\n",
    "import pandas as pd\n",
    "\n",
    "web = 'https://www.audible.in/?ref=a_hp_t1_navTop_pl0&pf_rd_p=4e150d5e-ca98-47fb-823b-f6fcb252aced&pf_rd_r=8HJT57YD3TZTM150HY92&pageLoadId=MjFYxQV53AW3K2gz&creativeId=2e6787a2-0cd0-4a6e-afe0-05766cd505e5#'\n",
    "path = 'C:/Users/croma/OneDrive/Desktop/VS code/chromedriver_win32/chromedriver.exe'\n",
    "\n",
    "driver = webdriver.Chrome(path)\n",
    "driver.get(web)\n",
    "\n",
    "# to maximize the window\n",
    "driver.maximize_window()\n",
    "\n",
    "\n",
    "container = driver.find_element_by_class_name('adbl-impression-container')\n",
    "products = container.find_elements_by_xpath('.//li[contains(@class, \"productListItem\")]')\n",
    "\n",
    "book_title = []\n",
    "book_author = []\n",
    "book_length = []\n",
    "\n",
    "\n",
    "for product in products:\n",
    "    book_title.append(product.find_element_by_xpath('.//h3[contains(@class, \"bc-heading\")]').text)\n",
    "    book_author.append( product.find_element_by_xpath('.//a[contains(@class, \"bc-link\")]').text)\n",
    "    book_title.append(product.find_element_by_xpath('.//li[contains(@class, \"runtimeLabel\")]').text)\n",
    "\n",
    "driver.quit()\n",
    "\n",
    "df_books = pd.DataFrame({'title' : book_title , 'author': book_author , 'length': book_title})\n",
    "df_books.to_csv('books.csv' , index= False)\n",
    "\n",
    "\n",
    "\n",
    "    "
   ]
  },
  {
   "cell_type": "code",
   "execution_count": null,
   "metadata": {},
   "outputs": [],
   "source": []
  }
 ],
 "metadata": {
  "kernelspec": {
   "display_name": "Python 3",
   "language": "python",
   "name": "python3"
  },
  "language_info": {
   "codemirror_mode": {
    "name": "ipython",
    "version": 3
   },
   "file_extension": ".py",
   "mimetype": "text/x-python",
   "name": "python",
   "nbconvert_exporter": "python",
   "pygments_lexer": "ipython3",
   "version": "3.11.2"
  },
  "orig_nbformat": 4
 },
 "nbformat": 4,
 "nbformat_minor": 2
}
